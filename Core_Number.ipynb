{
 "cells": [
  {
   "cell_type": "code",
   "execution_count": 1,
   "metadata": {},
   "outputs": [],
   "source": [
    "import time\n",
    "start_time = time.time()\n",
    "from collections import defaultdict"
   ]
  },
  {
   "cell_type": "code",
   "execution_count": 2,
   "metadata": {},
   "outputs": [],
   "source": [
    "class Graph:\n",
    "    def __init__(self):\n",
    "        self.nodes = defaultdict(list)\n",
    "        self.degree = defaultdict(int)\n",
    "    \n",
    "    def extract_data(self,filename):\n",
    "        with open(filename) as file: #'DBLP.txt'\n",
    "            data=file.readlines()[1:]\n",
    "        for i in data:\n",
    "            u,v = map(int,i.split())\n",
    "            self.nodes[u].append(v)\n",
    "            self.nodes[v].append(u)\n",
    "            \n",
    "        for i in list(self.nodes.keys()):\n",
    "            self.degree[i] = len(self.nodes[i])\n",
    "    \n",
    "    def Core_number(self):\n",
    "        neighbours = self.nodes.copy()\n",
    "        degree = self.degree.copy()\n",
    "        degree_sorted = sorted(degree, key = degree.get)\n",
    "        bin_boundaries = [0]\n",
    "        current_degree = 0\n",
    "        for i,v in enumerate(degree_sorted):\n",
    "            if degree[v] > current_degree:\n",
    "                bin_boundaries.extend([i]*(degree[v] - current_degree))\n",
    "                current_degree = degree[v]\n",
    "        nodes_pos = {v:pos for pos,v in enumerate(degree_sorted)}    \n",
    "        cores = degree.copy()\n",
    "        for v in degree_sorted:\n",
    "            for u in neighbours[v]:\n",
    "                if cores[u] > cores[v]:\n",
    "                    neighbours[u].remove(v)\n",
    "                    pos = nodes_pos[u]\n",
    "                    bin_start = bin_boundaries[cores[u]]\n",
    "                    nodes_pos[u] = bin_start\n",
    "                    nodes_pos[degree_sorted[bin_start]] = pos\n",
    "                    degree_sorted[bin_start],degree_sorted[pos] = degree_sorted[pos],degree_sorted[bin_start]\n",
    "                    bin_boundaries[cores[u]]+=1\n",
    "                    cores[u]-=1\n",
    "        return cores\n",
    "                "
   ]
  },
  {
   "cell_type": "code",
   "execution_count": 3,
   "metadata": {},
   "outputs": [],
   "source": [
    "g = Graph()\n",
    "g.extract_data('DBLP.txt')"
   ]
  },
  {
   "cell_type": "code",
   "execution_count": 4,
   "metadata": {},
   "outputs": [],
   "source": [
    "core_num = g.Core_number()"
   ]
  },
  {
   "cell_type": "code",
   "execution_count": 5,
   "metadata": {},
   "outputs": [],
   "source": [
    "with open(\"answer_file.txt\", 'w') as f: \n",
    "    for key, value in core_num.items(): \n",
    "        f.write('%s:%s\\n' % (key, value))"
   ]
  },
  {
   "cell_type": "code",
   "execution_count": 6,
   "metadata": {},
   "outputs": [
    {
     "name": "stdout",
     "output_type": "stream",
     "text": [
      "5.283265113830566 seconds\n"
     ]
    }
   ],
   "source": [
    "print(\"%s seconds\" % (time.time() - start_time))"
   ]
  },
  {
   "cell_type": "code",
   "execution_count": null,
   "metadata": {},
   "outputs": [],
   "source": []
  },
  {
   "cell_type": "code",
   "execution_count": null,
   "metadata": {},
   "outputs": [],
   "source": []
  }
 ],
 "metadata": {
  "kernelspec": {
   "display_name": "Python 3",
   "language": "python",
   "name": "python3"
  },
  "language_info": {
   "codemirror_mode": {
    "name": "ipython",
    "version": 3
   },
   "file_extension": ".py",
   "mimetype": "text/x-python",
   "name": "python",
   "nbconvert_exporter": "python",
   "pygments_lexer": "ipython3",
   "version": "3.8.5"
  }
 },
 "nbformat": 4,
 "nbformat_minor": 4
}
